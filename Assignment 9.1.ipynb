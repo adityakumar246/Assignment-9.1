{
 "cells": [
  {
   "cell_type": "markdown",
   "metadata": {},
   "source": [
    "QUESTION"
   ]
  },
  {
   "cell_type": "markdown",
   "metadata": {},
   "source": [
    "Predicting Survival in the Titanic Data Set\n",
    "We will be using a decision tree to make predictions about the Titanic data set from\n",
    "Kaggle. This data set provides information on the Titanic passengers and can be used to\n",
    "predict whether a passenger survived or not.\n",
    "Loading Data and modules\n",
    "import numpy as np\n",
    "import pandas as pd\n",
    "import seaborn as sb\n",
    "import matplotlib.pyplot as plt\n",
    "import sklearn\n",
    "from pandas import Series, DataFrame\n",
    "from pylab import rcParams\n",
    "from sklearn import preprocessing\n",
    "from sklearn.linear_model import LogisticRegression\n",
    "from sklearn.cross_validation import train_test_split\n",
    "from sklearn import metrics\n",
    "\n",
    "from sklearn.metrics import classification_report\n",
    "Url=\n",
    "https://raw.githubusercontent.com/BigDataGal/Python-for-Data-Science/master/titanic\n",
    "-train.csv\n",
    "titanic = pd.read_csv(url)\n",
    "titanic.columns =\n",
    "['PassengerId','Survived','Pclass','Name','Sex','Age','SibSp','Parch','Ticket','Fare','Cabin','E\n",
    "mbarked']\n",
    "You use only Pclass, Sex, Age, SibSp (Siblings aboard), Parch (Parents/children aboard),\n",
    "and Fare to predict whether a passenger survived."
   ]
  },
  {
   "cell_type": "markdown",
   "metadata": {},
   "source": [
    "ANSWER"
   ]
  },
  {
   "cell_type": "code",
   "execution_count": 1,
   "metadata": {},
   "outputs": [
    {
     "name": "stderr",
     "output_type": "stream",
     "text": [
      "C:\\Users\\adity\\Anaconda3\\lib\\site-packages\\sklearn\\cross_validation.py:41: DeprecationWarning: This module was deprecated in version 0.18 in favor of the model_selection module into which all the refactored classes and functions are moved. Also note that the interface of the new CV iterators are different from that of this module. This module will be removed in 0.20.\n",
      "  \"This module will be removed in 0.20.\", DeprecationWarning)\n"
     ]
    },
    {
     "name": "stdout",
     "output_type": "stream",
     "text": [
      "Accuracy score with Logistic Regression = 0.7821229050279329\n",
      "Accuracy score with Cross Validation = 0.7980972790440938\n"
     ]
    }
   ],
   "source": [
    "import numpy as np\n",
    "import pandas as pd\n",
    "import seaborn as sb\n",
    "import matplotlib.pyplot as plt\n",
    "import sklearn\n",
    "from pandas import Series, DataFrame\n",
    "from pylab import rcParams\n",
    "from sklearn import preprocessing\n",
    "from sklearn.linear_model import LogisticRegression\n",
    "from sklearn.cross_validation import train_test_split\n",
    "from sklearn import metrics #\n",
    "from sklearn.metrics import classification_report\n",
    "\n",
    "url='https://raw.githubusercontent.com/BigDataGal/Python-for-Data-Science/\\\n",
    "master/titanic-train.csv'\n",
    "titanic = pd.read_csv(url)\n",
    "titanic.columns =['PassengerId','Survived','Pclass','Name','Sex',\\\n",
    "                  'Age','SibSp','Parch','Ticket','Fare','Cabin','Embarked']\n",
    "\n",
    "X=titanic.iloc[:,[2,4,5,6,7,9]].values\n",
    "X=pd.DataFrame(X)\n",
    "X.columns = ('Pclass','Sex','Age','SibSp','Parch','Fare')\n",
    "y=titanic.iloc[:,1].values\n",
    "\n",
    "X.Age.fillna(X.Age.mean(), inplace=True)\n",
    "\n",
    "#Encoding categorical data\n",
    "from sklearn.preprocessing import LabelEncoder\n",
    "labelencoder_X_1=LabelEncoder()\n",
    "X['Sex']=labelencoder_X_1.fit_transform(X['Sex'])\n",
    "\n",
    "X_train,X_test,y_train,y_test = train_test_split(X,y,test_size=0.2,random_state=0)\n",
    "\n",
    "#LogisticRegression\n",
    "lrclassifier=LogisticRegression(random_state=0)\n",
    "lrclassifier.fit(X_train,y_train)\n",
    "#lrscore1=lrclassifier.score(X_test, y_test)\n",
    "y_pred = lrclassifier.predict(X_test)\n",
    "\n",
    "# from sklearn.metrics import confusion_matrix,accuracy_score\n",
    "cm=metrics.confusion_matrix(y_test,y_pred)\n",
    "lrscore=metrics.accuracy_score(y_test,y_pred)\n",
    "print(\"Accuracy score with Logistic Regression = \"+ str(lrscore))\n",
    "\n",
    "from sklearn.model_selection import cross_val_score\n",
    "cvs = cross_val_score(LogisticRegression(),X,y,scoring = 'accuracy', cv = 15)\n",
    "print(\"Accuracy score with Cross Validation = \"+ str(cvs.mean()))"
   ]
  }
 ],
 "metadata": {
  "kernelspec": {
   "display_name": "Python 3",
   "language": "python",
   "name": "python3"
  },
  "language_info": {
   "codemirror_mode": {
    "name": "ipython",
    "version": 3
   },
   "file_extension": ".py",
   "mimetype": "text/x-python",
   "name": "python",
   "nbconvert_exporter": "python",
   "pygments_lexer": "ipython3",
   "version": "3.6.6"
  }
 },
 "nbformat": 4,
 "nbformat_minor": 2
}
